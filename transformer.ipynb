{
 "cells": [
  {
   "cell_type": "code",
   "execution_count": 2,
   "metadata": {},
   "outputs": [
    {
     "name": "stderr",
     "output_type": "stream",
     "text": [
      "2023-08-18 16:34:27.377381: I tensorflow/core/platform/cpu_feature_guard.cc:182] This TensorFlow binary is optimized to use available CPU instructions in performance-critical operations.\n",
      "To enable the following instructions: AVX2 FMA, in other operations, rebuild TensorFlow with the appropriate compiler flags.\n",
      "2023-08-18 16:34:28.071649: W tensorflow/compiler/tf2tensorrt/utils/py_utils.cc:38] TF-TRT Warning: Could not find TensorRT\n"
     ]
    }
   ],
   "source": [
    "import matplotlib.pyplot as plt\n",
    "import numpy as np\n",
    "from tensorflow import keras"
   ]
  },
  {
   "cell_type": "code",
   "execution_count": 3,
   "metadata": {},
   "outputs": [
    {
     "name": "stdout",
     "output_type": "stream",
     "text": [
      "(3601, 500) (3601,) (1320, 500) (1320,)\n",
      "(3601, 500, 1) (1320, 500, 1)\n"
     ]
    }
   ],
   "source": [
    "ROOT_URL = \"https://raw.githubusercontent.com/hfawaz/cd-diagram/master/FordA/\"\n",
    "\n",
    "def read_data(filename):\n",
    "    data = np.loadtxt(ROOT_URL + filename, delimiter=\"\\t\")\n",
    "    y = data[:,0].astype(int)\n",
    "    x = data[:,1:]\n",
    "    \n",
    "    return x,y\n",
    "\n",
    "\n",
    "xtr, ytr = read_data(\"FordA_TRAIN.tsv\")\n",
    "xts, yts = read_data(\"FordA_TEST.tsv\")\n",
    "\n",
    "print(xtr.shape, ytr.shape, xts.shape, yts.shape)\n",
    "\n",
    "classes = np.unique(np.concatenate((ytr, yts)))\n",
    "\n",
    "# reshape into multivariate value\n",
    "xtr = xtr.reshape((xtr.shape[0],xtr.shape[1],1))\n",
    "xts = xts.reshape((xts.shape[0],xts.shape[1],1))\n",
    "print(xtr.shape, xts.shape)\n",
    "\n",
    "# shuffle\n",
    "idx = np.random.permutation(xtr.shape[0])\n",
    "xtr, ytr = xtr[idx], ytr[idx]\n",
    "\n",
    "# labels tp positive ints\n",
    "ytr[ytr == -1] = 0\n",
    "yts[yts == -1] = 0"
   ]
  },
  {
   "cell_type": "code",
   "execution_count": null,
   "metadata": {},
   "outputs": [],
   "source": [
    "def transformer_encoder(inputs, head_size, num_heads, ff_dim, dropout=0):\n",
    "    x = keras.layers.MultiHeadAttention(\n",
    "        key_dim=head_size, num_heads=num_heads, dropout=dropout\n",
    "    )(inputs, inputs)\n",
    "    x = keras.layers.Dropout(dropout)(x)\n",
    "    x = keras.layers.LayerNormalization(epsilon=1e-6)(x)\n",
    "    res = x + inputs\n",
    "\n",
    "    x = keras.layers.Conv1D(filters=ff_dim, kernel_size=1, activation=\"relu\")(res)\n",
    "    x = keras.layers.Dropout(dropout)(x)\n",
    "    x = keras.layers.Conv1D(filters=inputs.shape[-1], kernel_size=1)(x)\n",
    "    x = keras.layers.LayerNormalization(epsilon=1e-6)(x)\n",
    "\n",
    "    return x + res"
   ]
  }
 ],
 "metadata": {
  "kernelspec": {
   "display_name": "base",
   "language": "python",
   "name": "python3"
  },
  "language_info": {
   "codemirror_mode": {
    "name": "ipython",
    "version": 3
   },
   "file_extension": ".py",
   "mimetype": "text/x-python",
   "name": "python",
   "nbconvert_exporter": "python",
   "pygments_lexer": "ipython3",
   "version": "3.10.9"
  },
  "orig_nbformat": 4
 },
 "nbformat": 4,
 "nbformat_minor": 2
}
