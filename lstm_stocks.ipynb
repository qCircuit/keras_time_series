{
 "cells": [
  {
   "cell_type": "code",
   "execution_count": 57,
   "metadata": {},
   "outputs": [],
   "source": [
    "import datetime\n",
    "import matplotlib.pyplot as plt\n",
    "import numpy as np\n",
    "import pandas as pd\n",
    "import yfinance as yf\n",
    "from sklearn.preprocessing import MinMaxScaler\n",
    "import tensorflow  as tf"
   ]
  },
  {
   "cell_type": "code",
   "execution_count": 20,
   "metadata": {},
   "outputs": [
    {
     "name": "stdout",
     "output_type": "stream",
     "text": [
      "[*********************100%***********************]  1 of 1 completed\n"
     ]
    }
   ],
   "source": [
    "company = \"META\"\n",
    "\n",
    "start = \"2021-09-01\"\n",
    "end = \"2023-08-25\"\n",
    "\n",
    "data = yf.download(\n",
    "    tickers=company, \n",
    "    start=start, \n",
    "    end=end, \n",
    "    interval=\"60m\"\n",
    ") "
   ]
  },
  {
   "cell_type": "code",
   "execution_count": 72,
   "metadata": {},
   "outputs": [
    {
     "name": "stdout",
     "output_type": "stream",
     "text": [
      "3126\n",
      "(3126, 6) (348, 6)\n"
     ]
    }
   ],
   "source": [
    "test_coef = 0.1\n",
    "split_idx = int(len(data)*(1-test_coef))\n",
    "print(split_idx) \n",
    "\n",
    "data_train, data_test = data[:split_idx], data[split_idx:]\n",
    "print(data_train.shape, data_test.shape)"
   ]
  },
  {
   "cell_type": "code",
   "execution_count": 50,
   "metadata": {},
   "outputs": [
    {
     "name": "stdout",
     "output_type": "stream",
     "text": [
      "(3066, 60) (3066,)\n",
      "(3066, 60, 1)\n"
     ]
    }
   ],
   "source": [
    "scaler = MinMaxScaler(feature_range=(0,1))\n",
    "scaled_data = scaler.fit_transform(data_train.Close.values.reshape(-1,1))\n",
    "\n",
    "prediction_days = 60\n",
    "\n",
    "xtr, ytr = [], []\n",
    "\n",
    "for x in range(prediction_days, len(scaled_data)):\n",
    "    xtr.append(scaled_data[x-prediction_days:x, 0])\n",
    "    ytr.append(scaled_data[x, 0])\n",
    "\n",
    "xtr, ytr = np.array(xtr), np.array(ytr)\n",
    "print(xtr.shape, ytr.shape)\n",
    "xtr = np.reshape(xtr, (xtr.shape[0], xtr.shape[1], 1))\n",
    "print(xtr.shape)"
   ]
  },
  {
   "cell_type": "code",
   "execution_count": 54,
   "metadata": {},
   "outputs": [
    {
     "name": "stderr",
     "output_type": "stream",
     "text": [
      "2023-08-30 21:40:57.460264: I tensorflow/core/common_runtime/executor.cc:1197] [/device:CPU:0] (DEBUG INFO) Executor start aborting (this does not indicate an error and you can ignore this message): INVALID_ARGUMENT: You must feed a value for placeholder tensor 'gradients/split_2_grad/concat/split_2/split_dim' with dtype int32\n",
      "\t [[{{node gradients/split_2_grad/concat/split_2/split_dim}}]]\n",
      "2023-08-30 21:40:57.461424: I tensorflow/core/common_runtime/executor.cc:1197] [/device:CPU:0] (DEBUG INFO) Executor start aborting (this does not indicate an error and you can ignore this message): INVALID_ARGUMENT: You must feed a value for placeholder tensor 'gradients/split_grad/concat/split/split_dim' with dtype int32\n",
      "\t [[{{node gradients/split_grad/concat/split/split_dim}}]]\n",
      "2023-08-30 21:40:57.462282: I tensorflow/core/common_runtime/executor.cc:1197] [/device:CPU:0] (DEBUG INFO) Executor start aborting (this does not indicate an error and you can ignore this message): INVALID_ARGUMENT: You must feed a value for placeholder tensor 'gradients/split_1_grad/concat/split_1/split_dim' with dtype int32\n",
      "\t [[{{node gradients/split_1_grad/concat/split_1/split_dim}}]]\n",
      "2023-08-30 21:40:57.605489: I tensorflow/core/common_runtime/executor.cc:1197] [/device:CPU:0] (DEBUG INFO) Executor start aborting (this does not indicate an error and you can ignore this message): INVALID_ARGUMENT: You must feed a value for placeholder tensor 'gradients/split_2_grad/concat/split_2/split_dim' with dtype int32\n",
      "\t [[{{node gradients/split_2_grad/concat/split_2/split_dim}}]]\n",
      "2023-08-30 21:40:57.606374: I tensorflow/core/common_runtime/executor.cc:1197] [/device:CPU:0] (DEBUG INFO) Executor start aborting (this does not indicate an error and you can ignore this message): INVALID_ARGUMENT: You must feed a value for placeholder tensor 'gradients/split_grad/concat/split/split_dim' with dtype int32\n",
      "\t [[{{node gradients/split_grad/concat/split/split_dim}}]]\n",
      "2023-08-30 21:40:57.607135: I tensorflow/core/common_runtime/executor.cc:1197] [/device:CPU:0] (DEBUG INFO) Executor start aborting (this does not indicate an error and you can ignore this message): INVALID_ARGUMENT: You must feed a value for placeholder tensor 'gradients/split_1_grad/concat/split_1/split_dim' with dtype int32\n",
      "\t [[{{node gradients/split_1_grad/concat/split_1/split_dim}}]]\n"
     ]
    },
    {
     "name": "stdout",
     "output_type": "stream",
     "text": [
      "Epoch 1/25\n"
     ]
    },
    {
     "name": "stderr",
     "output_type": "stream",
     "text": [
      "2023-08-30 21:40:57.774359: I tensorflow/core/common_runtime/executor.cc:1197] [/device:CPU:0] (DEBUG INFO) Executor start aborting (this does not indicate an error and you can ignore this message): INVALID_ARGUMENT: You must feed a value for placeholder tensor 'gradients/split_2_grad/concat/split_2/split_dim' with dtype int32\n",
      "\t [[{{node gradients/split_2_grad/concat/split_2/split_dim}}]]\n",
      "2023-08-30 21:40:57.775532: I tensorflow/core/common_runtime/executor.cc:1197] [/device:CPU:0] (DEBUG INFO) Executor start aborting (this does not indicate an error and you can ignore this message): INVALID_ARGUMENT: You must feed a value for placeholder tensor 'gradients/split_grad/concat/split/split_dim' with dtype int32\n",
      "\t [[{{node gradients/split_grad/concat/split/split_dim}}]]\n",
      "2023-08-30 21:40:57.776360: I tensorflow/core/common_runtime/executor.cc:1197] [/device:CPU:0] (DEBUG INFO) Executor start aborting (this does not indicate an error and you can ignore this message): INVALID_ARGUMENT: You must feed a value for placeholder tensor 'gradients/split_1_grad/concat/split_1/split_dim' with dtype int32\n",
      "\t [[{{node gradients/split_1_grad/concat/split_1/split_dim}}]]\n",
      "2023-08-30 21:40:57.988464: I tensorflow/core/common_runtime/executor.cc:1197] [/device:CPU:0] (DEBUG INFO) Executor start aborting (this does not indicate an error and you can ignore this message): INVALID_ARGUMENT: You must feed a value for placeholder tensor 'gradients/split_2_grad/concat/split_2/split_dim' with dtype int32\n",
      "\t [[{{node gradients/split_2_grad/concat/split_2/split_dim}}]]\n",
      "2023-08-30 21:40:57.989652: I tensorflow/core/common_runtime/executor.cc:1197] [/device:CPU:0] (DEBUG INFO) Executor start aborting (this does not indicate an error and you can ignore this message): INVALID_ARGUMENT: You must feed a value for placeholder tensor 'gradients/split_grad/concat/split/split_dim' with dtype int32\n",
      "\t [[{{node gradients/split_grad/concat/split/split_dim}}]]\n",
      "2023-08-30 21:40:57.990682: I tensorflow/core/common_runtime/executor.cc:1197] [/device:CPU:0] (DEBUG INFO) Executor start aborting (this does not indicate an error and you can ignore this message): INVALID_ARGUMENT: You must feed a value for placeholder tensor 'gradients/split_1_grad/concat/split_1/split_dim' with dtype int32\n",
      "\t [[{{node gradients/split_1_grad/concat/split_1/split_dim}}]]\n",
      "2023-08-30 21:40:58.145719: I tensorflow/core/common_runtime/executor.cc:1197] [/device:CPU:0] (DEBUG INFO) Executor start aborting (this does not indicate an error and you can ignore this message): INVALID_ARGUMENT: You must feed a value for placeholder tensor 'gradients/split_2_grad/concat/split_2/split_dim' with dtype int32\n",
      "\t [[{{node gradients/split_2_grad/concat/split_2/split_dim}}]]\n",
      "2023-08-30 21:40:58.146789: I tensorflow/core/common_runtime/executor.cc:1197] [/device:CPU:0] (DEBUG INFO) Executor start aborting (this does not indicate an error and you can ignore this message): INVALID_ARGUMENT: You must feed a value for placeholder tensor 'gradients/split_grad/concat/split/split_dim' with dtype int32\n",
      "\t [[{{node gradients/split_grad/concat/split/split_dim}}]]\n",
      "2023-08-30 21:40:58.147715: I tensorflow/core/common_runtime/executor.cc:1197] [/device:CPU:0] (DEBUG INFO) Executor start aborting (this does not indicate an error and you can ignore this message): INVALID_ARGUMENT: You must feed a value for placeholder tensor 'gradients/split_1_grad/concat/split_1/split_dim' with dtype int32\n",
      "\t [[{{node gradients/split_1_grad/concat/split_1/split_dim}}]]\n",
      "2023-08-30 21:40:58.309388: I tensorflow/core/common_runtime/executor.cc:1197] [/device:CPU:0] (DEBUG INFO) Executor start aborting (this does not indicate an error and you can ignore this message): INVALID_ARGUMENT: You must feed a value for placeholder tensor 'gradients/split_2_grad/concat/split_2/split_dim' with dtype int32\n",
      "\t [[{{node gradients/split_2_grad/concat/split_2/split_dim}}]]\n",
      "2023-08-30 21:40:58.310769: I tensorflow/core/common_runtime/executor.cc:1197] [/device:CPU:0] (DEBUG INFO) Executor start aborting (this does not indicate an error and you can ignore this message): INVALID_ARGUMENT: You must feed a value for placeholder tensor 'gradients/split_grad/concat/split/split_dim' with dtype int32\n",
      "\t [[{{node gradients/split_grad/concat/split/split_dim}}]]\n",
      "2023-08-30 21:40:58.311716: I tensorflow/core/common_runtime/executor.cc:1197] [/device:CPU:0] (DEBUG INFO) Executor start aborting (this does not indicate an error and you can ignore this message): INVALID_ARGUMENT: You must feed a value for placeholder tensor 'gradients/split_1_grad/concat/split_1/split_dim' with dtype int32\n",
      "\t [[{{node gradients/split_1_grad/concat/split_1/split_dim}}]]\n",
      "2023-08-30 21:40:59.266615: I tensorflow/core/common_runtime/executor.cc:1197] [/device:CPU:0] (DEBUG INFO) Executor start aborting (this does not indicate an error and you can ignore this message): INVALID_ARGUMENT: You must feed a value for placeholder tensor 'gradients/split_2_grad/concat/split_2/split_dim' with dtype int32\n",
      "\t [[{{node gradients/split_2_grad/concat/split_2/split_dim}}]]\n",
      "2023-08-30 21:40:59.267871: I tensorflow/core/common_runtime/executor.cc:1197] [/device:CPU:0] (DEBUG INFO) Executor start aborting (this does not indicate an error and you can ignore this message): INVALID_ARGUMENT: You must feed a value for placeholder tensor 'gradients/split_grad/concat/split/split_dim' with dtype int32\n",
      "\t [[{{node gradients/split_grad/concat/split/split_dim}}]]\n",
      "2023-08-30 21:40:59.268828: I tensorflow/core/common_runtime/executor.cc:1197] [/device:CPU:0] (DEBUG INFO) Executor start aborting (this does not indicate an error and you can ignore this message): INVALID_ARGUMENT: You must feed a value for placeholder tensor 'gradients/split_1_grad/concat/split_1/split_dim' with dtype int32\n",
      "\t [[{{node gradients/split_1_grad/concat/split_1/split_dim}}]]\n",
      "2023-08-30 21:40:59.427449: I tensorflow/core/common_runtime/executor.cc:1197] [/device:CPU:0] (DEBUG INFO) Executor start aborting (this does not indicate an error and you can ignore this message): INVALID_ARGUMENT: You must feed a value for placeholder tensor 'gradients/split_2_grad/concat/split_2/split_dim' with dtype int32\n",
      "\t [[{{node gradients/split_2_grad/concat/split_2/split_dim}}]]\n",
      "2023-08-30 21:40:59.428565: I tensorflow/core/common_runtime/executor.cc:1197] [/device:CPU:0] (DEBUG INFO) Executor start aborting (this does not indicate an error and you can ignore this message): INVALID_ARGUMENT: You must feed a value for placeholder tensor 'gradients/split_grad/concat/split/split_dim' with dtype int32\n",
      "\t [[{{node gradients/split_grad/concat/split/split_dim}}]]\n",
      "2023-08-30 21:40:59.429676: I tensorflow/core/common_runtime/executor.cc:1197] [/device:CPU:0] (DEBUG INFO) Executor start aborting (this does not indicate an error and you can ignore this message): INVALID_ARGUMENT: You must feed a value for placeholder tensor 'gradients/split_1_grad/concat/split_1/split_dim' with dtype int32\n",
      "\t [[{{node gradients/split_1_grad/concat/split_1/split_dim}}]]\n",
      "2023-08-30 21:40:59.593662: I tensorflow/core/common_runtime/executor.cc:1197] [/device:CPU:0] (DEBUG INFO) Executor start aborting (this does not indicate an error and you can ignore this message): INVALID_ARGUMENT: You must feed a value for placeholder tensor 'gradients/split_2_grad/concat/split_2/split_dim' with dtype int32\n",
      "\t [[{{node gradients/split_2_grad/concat/split_2/split_dim}}]]\n",
      "2023-08-30 21:40:59.594922: I tensorflow/core/common_runtime/executor.cc:1197] [/device:CPU:0] (DEBUG INFO) Executor start aborting (this does not indicate an error and you can ignore this message): INVALID_ARGUMENT: You must feed a value for placeholder tensor 'gradients/split_grad/concat/split/split_dim' with dtype int32\n",
      "\t [[{{node gradients/split_grad/concat/split/split_dim}}]]\n",
      "2023-08-30 21:40:59.596026: I tensorflow/core/common_runtime/executor.cc:1197] [/device:CPU:0] (DEBUG INFO) Executor start aborting (this does not indicate an error and you can ignore this message): INVALID_ARGUMENT: You must feed a value for placeholder tensor 'gradients/split_1_grad/concat/split_1/split_dim' with dtype int32\n",
      "\t [[{{node gradients/split_1_grad/concat/split_1/split_dim}}]]\n"
     ]
    },
    {
     "name": "stdout",
     "output_type": "stream",
     "text": [
      "77/77 [==============================] - ETA: 0s - loss: 0.0105 - mean_squared_error: 0.0105"
     ]
    },
    {
     "name": "stderr",
     "output_type": "stream",
     "text": [
      "2023-08-30 21:41:04.830422: I tensorflow/core/common_runtime/executor.cc:1197] [/device:CPU:0] (DEBUG INFO) Executor start aborting (this does not indicate an error and you can ignore this message): INVALID_ARGUMENT: You must feed a value for placeholder tensor 'gradients/split_2_grad/concat/split_2/split_dim' with dtype int32\n",
      "\t [[{{node gradients/split_2_grad/concat/split_2/split_dim}}]]\n",
      "2023-08-30 21:41:04.831745: I tensorflow/core/common_runtime/executor.cc:1197] [/device:CPU:0] (DEBUG INFO) Executor start aborting (this does not indicate an error and you can ignore this message): INVALID_ARGUMENT: You must feed a value for placeholder tensor 'gradients/split_grad/concat/split/split_dim' with dtype int32\n",
      "\t [[{{node gradients/split_grad/concat/split/split_dim}}]]\n",
      "2023-08-30 21:41:04.832819: I tensorflow/core/common_runtime/executor.cc:1197] [/device:CPU:0] (DEBUG INFO) Executor start aborting (this does not indicate an error and you can ignore this message): INVALID_ARGUMENT: You must feed a value for placeholder tensor 'gradients/split_1_grad/concat/split_1/split_dim' with dtype int32\n",
      "\t [[{{node gradients/split_1_grad/concat/split_1/split_dim}}]]\n",
      "2023-08-30 21:41:04.998719: I tensorflow/core/common_runtime/executor.cc:1197] [/device:CPU:0] (DEBUG INFO) Executor start aborting (this does not indicate an error and you can ignore this message): INVALID_ARGUMENT: You must feed a value for placeholder tensor 'gradients/split_2_grad/concat/split_2/split_dim' with dtype int32\n",
      "\t [[{{node gradients/split_2_grad/concat/split_2/split_dim}}]]\n",
      "2023-08-30 21:41:04.999734: I tensorflow/core/common_runtime/executor.cc:1197] [/device:CPU:0] (DEBUG INFO) Executor start aborting (this does not indicate an error and you can ignore this message): INVALID_ARGUMENT: You must feed a value for placeholder tensor 'gradients/split_grad/concat/split/split_dim' with dtype int32\n",
      "\t [[{{node gradients/split_grad/concat/split/split_dim}}]]\n",
      "2023-08-30 21:41:05.000648: I tensorflow/core/common_runtime/executor.cc:1197] [/device:CPU:0] (DEBUG INFO) Executor start aborting (this does not indicate an error and you can ignore this message): INVALID_ARGUMENT: You must feed a value for placeholder tensor 'gradients/split_1_grad/concat/split_1/split_dim' with dtype int32\n",
      "\t [[{{node gradients/split_1_grad/concat/split_1/split_dim}}]]\n",
      "2023-08-30 21:41:05.162479: I tensorflow/core/common_runtime/executor.cc:1197] [/device:CPU:0] (DEBUG INFO) Executor start aborting (this does not indicate an error and you can ignore this message): INVALID_ARGUMENT: You must feed a value for placeholder tensor 'gradients/split_2_grad/concat/split_2/split_dim' with dtype int32\n",
      "\t [[{{node gradients/split_2_grad/concat/split_2/split_dim}}]]\n",
      "2023-08-30 21:41:05.163802: I tensorflow/core/common_runtime/executor.cc:1197] [/device:CPU:0] (DEBUG INFO) Executor start aborting (this does not indicate an error and you can ignore this message): INVALID_ARGUMENT: You must feed a value for placeholder tensor 'gradients/split_grad/concat/split/split_dim' with dtype int32\n",
      "\t [[{{node gradients/split_grad/concat/split/split_dim}}]]\n",
      "2023-08-30 21:41:05.164746: I tensorflow/core/common_runtime/executor.cc:1197] [/device:CPU:0] (DEBUG INFO) Executor start aborting (this does not indicate an error and you can ignore this message): INVALID_ARGUMENT: You must feed a value for placeholder tensor 'gradients/split_1_grad/concat/split_1/split_dim' with dtype int32\n",
      "\t [[{{node gradients/split_1_grad/concat/split_1/split_dim}}]]\n"
     ]
    },
    {
     "name": "stdout",
     "output_type": "stream",
     "text": [
      "77/77 [==============================] - 8s 56ms/step - loss: 0.0105 - mean_squared_error: 0.0105 - val_loss: 3.2765e-04 - val_mean_squared_error: 3.2765e-04\n",
      "Epoch 2/25\n",
      "77/77 [==============================] - 3s 44ms/step - loss: 0.0028 - mean_squared_error: 0.0028 - val_loss: 2.8018e-04 - val_mean_squared_error: 2.8018e-04\n",
      "Epoch 3/25\n",
      "77/77 [==============================] - 4s 48ms/step - loss: 0.0025 - mean_squared_error: 0.0025 - val_loss: 4.6974e-04 - val_mean_squared_error: 4.6974e-04\n",
      "Epoch 4/25\n",
      "77/77 [==============================] - 4s 49ms/step - loss: 0.0024 - mean_squared_error: 0.0024 - val_loss: 7.6453e-04 - val_mean_squared_error: 7.6453e-04\n",
      "Epoch 5/25\n",
      "77/77 [==============================] - 3s 45ms/step - loss: 0.0022 - mean_squared_error: 0.0022 - val_loss: 4.5892e-04 - val_mean_squared_error: 4.5892e-04\n",
      "Epoch 6/25\n",
      "77/77 [==============================] - 3s 42ms/step - loss: 0.0021 - mean_squared_error: 0.0021 - val_loss: 4.1069e-04 - val_mean_squared_error: 4.1069e-04\n",
      "Epoch 7/25\n",
      "77/77 [==============================] - 3s 42ms/step - loss: 0.0028 - mean_squared_error: 0.0028 - val_loss: 2.5873e-04 - val_mean_squared_error: 2.5873e-04\n",
      "Epoch 8/25\n",
      "77/77 [==============================] - 3s 43ms/step - loss: 0.0021 - mean_squared_error: 0.0021 - val_loss: 3.5171e-04 - val_mean_squared_error: 3.5171e-04\n",
      "Epoch 9/25\n",
      "77/77 [==============================] - 3s 43ms/step - loss: 0.0019 - mean_squared_error: 0.0019 - val_loss: 1.9962e-04 - val_mean_squared_error: 1.9962e-04\n",
      "Epoch 10/25\n",
      "77/77 [==============================] - 3s 43ms/step - loss: 0.0018 - mean_squared_error: 0.0018 - val_loss: 4.5550e-04 - val_mean_squared_error: 4.5550e-04\n",
      "Epoch 11/25\n",
      "77/77 [==============================] - 4s 47ms/step - loss: 0.0019 - mean_squared_error: 0.0019 - val_loss: 0.0011 - val_mean_squared_error: 0.0011\n",
      "Epoch 12/25\n",
      "77/77 [==============================] - 3s 43ms/step - loss: 0.0020 - mean_squared_error: 0.0020 - val_loss: 1.7638e-04 - val_mean_squared_error: 1.7638e-04\n",
      "Epoch 13/25\n",
      "77/77 [==============================] - 3s 43ms/step - loss: 0.0019 - mean_squared_error: 0.0019 - val_loss: 1.7740e-04 - val_mean_squared_error: 1.7740e-04\n",
      "Epoch 14/25\n",
      "77/77 [==============================] - 3s 43ms/step - loss: 0.0018 - mean_squared_error: 0.0018 - val_loss: 3.3711e-04 - val_mean_squared_error: 3.3711e-04\n",
      "Epoch 15/25\n",
      "77/77 [==============================] - 3s 43ms/step - loss: 0.0016 - mean_squared_error: 0.0016 - val_loss: 2.2444e-04 - val_mean_squared_error: 2.2444e-04\n",
      "Epoch 16/25\n",
      "77/77 [==============================] - 3s 44ms/step - loss: 0.0014 - mean_squared_error: 0.0014 - val_loss: 1.5747e-04 - val_mean_squared_error: 1.5747e-04\n",
      "Epoch 17/25\n",
      "77/77 [==============================] - 3s 43ms/step - loss: 0.0016 - mean_squared_error: 0.0016 - val_loss: 1.7560e-04 - val_mean_squared_error: 1.7560e-04\n",
      "Epoch 18/25\n",
      "77/77 [==============================] - 4s 48ms/step - loss: 0.0015 - mean_squared_error: 0.0015 - val_loss: 4.9287e-04 - val_mean_squared_error: 4.9287e-04\n",
      "Epoch 19/25\n",
      "77/77 [==============================] - 4s 48ms/step - loss: 0.0014 - mean_squared_error: 0.0014 - val_loss: 2.8328e-04 - val_mean_squared_error: 2.8328e-04\n",
      "Epoch 20/25\n",
      "77/77 [==============================] - 4s 46ms/step - loss: 0.0014 - mean_squared_error: 0.0014 - val_loss: 3.7738e-04 - val_mean_squared_error: 3.7738e-04\n",
      "Epoch 21/25\n",
      "77/77 [==============================] - 3s 44ms/step - loss: 0.0014 - mean_squared_error: 0.0014 - val_loss: 1.4312e-04 - val_mean_squared_error: 1.4312e-04\n",
      "Epoch 22/25\n",
      "77/77 [==============================] - 3s 43ms/step - loss: 0.0013 - mean_squared_error: 0.0013 - val_loss: 1.6966e-04 - val_mean_squared_error: 1.6966e-04\n",
      "Epoch 23/25\n",
      "77/77 [==============================] - 3s 43ms/step - loss: 0.0013 - mean_squared_error: 0.0013 - val_loss: 1.3584e-04 - val_mean_squared_error: 1.3584e-04\n",
      "Epoch 24/25\n",
      "77/77 [==============================] - 3s 42ms/step - loss: 0.0012 - mean_squared_error: 0.0012 - val_loss: 2.0404e-04 - val_mean_squared_error: 2.0404e-04\n",
      "Epoch 25/25\n",
      "77/77 [==============================] - 3s 42ms/step - loss: 0.0013 - mean_squared_error: 0.0013 - val_loss: 1.4354e-04 - val_mean_squared_error: 1.4354e-04\n"
     ]
    }
   ],
   "source": [
    "model = tf.keras.models.Sequential()\n",
    "model.add(tf.keras.layers.LSTM(units=64, return_sequences=True, input_shape=(xtr.shape[1], 1)))\n",
    "model.add(tf.keras.layers.Dropout(0.2))\n",
    "model.add(tf.keras.layers.LSTM(units=64, return_sequences=True))\n",
    "model.add(tf.keras.layers.Dropout(0.2))\n",
    "model.add(tf.keras.layers.LSTM(units=64))\n",
    "model.add(tf.keras.layers.Dropout(0.2))\n",
    "model.add(tf.keras.layers.Dense(units=1))\n",
    "\n",
    "model.compile(\n",
    "    optimizer='adam', \n",
    "    loss='mean_squared_error',\n",
    "    metrics=[\"mean_squared_error\"]\n",
    ")\n",
    "history = model.fit(\n",
    "    xtr, ytr, \n",
    "    epochs=25, \n",
    "    batch_size=32,\n",
    "    validation_split=0.2\n",
    ")"
   ]
  },
  {
   "cell_type": "code",
   "execution_count": 59,
   "metadata": {},
   "outputs": [
    {
     "data": {
      "image/png": "[encoded data removed]",
      "text/plain": [
       "<Figure size 640x480 with 1 Axes>"
      ]
     },
     "metadata": {},
     "output_type": "display_data"
    }
   ],
   "source": [
    "metric = \"mean_squared_error\"\n",
    "history.history.keys()\n",
    "plt.plot(history.history[metric])\n",
    "plt.plot(history.history[\"val_\"+metric])\n",
    "plt.legend([\"train\", \"val\"])\n",
    "plt.show()"
   ]
  },
  {
   "cell_type": "code",
   "execution_count": 73,
   "metadata": {},
   "outputs": [
    {
     "data": {
      "text/html": [
       "<div>\n",
       "<style scoped>\n",
       "    .dataframe tbody tr th:only-of-type {\n",
       "        vertical-align: middle;\n",
       "    }\n",
       "\n",
       "    .dataframe tbody tr th {\n",
       "        vertical-align: top;\n",
       "    }\n",
       "\n",
       "    .dataframe thead th {\n",
       "        text-align: right;\n",
       "    }\n",
       "</style>\n",
       "<table border=\"1\" class=\"dataframe\">\n",
       "  <thead>\n",
       "    <tr style=\"text-align: right;\">\n",
       "      <th></th>\n",
       "      <th>Open</th>\n",
       "      <th>High</th>\n",
       "      <th>Low</th>\n",
       "      <th>Close</th>\n",
       "      <th>Adj Close</th>\n",
       "      <th>Volume</th>\n",
       "    </tr>\n",
       "    <tr>\n",
       "      <th>Datetime</th>\n",
       "      <th></th>\n",
       "      <th></th>\n",
       "      <th></th>\n",
       "      <th></th>\n",
       "      <th></th>\n",
       "      <th></th>\n",
       "    </tr>\n",
       "  </thead>\n",
       "  <tbody>\n",
       "    <tr>\n",
       "      <th>2023-06-13 09:30:00</th>\n",
       "      <td>274.880005</td>\n",
       "      <td>275.720001</td>\n",
       "      <td>271.079987</td>\n",
       "      <td>271.663605</td>\n",
       "      <td>271.663605</td>\n",
       "      <td>4660664</td>\n",
       "    </tr>\n",
       "    <tr>\n",
       "      <th>2023-06-13 10:30:00</th>\n",
       "      <td>271.630005</td>\n",
       "      <td>274.019989</td>\n",
       "      <td>271.179993</td>\n",
       "      <td>273.470001</td>\n",
       "      <td>273.470001</td>\n",
       "      <td>2076969</td>\n",
       "    </tr>\n",
       "    <tr>\n",
       "      <th>2023-06-13 11:30:00</th>\n",
       "      <td>273.480011</td>\n",
       "      <td>273.500000</td>\n",
       "      <td>270.820007</td>\n",
       "      <td>271.500000</td>\n",
       "      <td>271.500000</td>\n",
       "      <td>1823913</td>\n",
       "    </tr>\n",
       "    <tr>\n",
       "      <th>2023-06-13 12:30:00</th>\n",
       "      <td>271.519989</td>\n",
       "      <td>272.420013</td>\n",
       "      <td>271.460693</td>\n",
       "      <td>271.702789</td>\n",
       "      <td>271.702789</td>\n",
       "      <td>1329313</td>\n",
       "    </tr>\n",
       "    <tr>\n",
       "      <th>2023-06-13 13:30:00</th>\n",
       "      <td>271.709991</td>\n",
       "      <td>272.029999</td>\n",
       "      <td>269.510010</td>\n",
       "      <td>270.019989</td>\n",
       "      <td>270.019989</td>\n",
       "      <td>1844689</td>\n",
       "    </tr>\n",
       "  </tbody>\n",
       "</table>\n",
       "</div>"
      ],
      "text/plain": [
       "                           Open        High         Low       Close  \\\n",
       "Datetime                                                              \n",
       "2023-06-13 09:30:00  274.880005  275.720001  271.079987  271.663605   \n",
       "2023-06-13 10:30:00  271.630005  274.019989  271.179993  273.470001   \n",
       "2023-06-13 11:30:00  273.480011  273.500000  270.820007  271.500000   \n",
       "2023-06-13 12:30:00  271.519989  272.420013  271.460693  271.702789   \n",
       "2023-06-13 13:30:00  271.709991  272.029999  269.510010  270.019989   \n",
       "\n",
       "                      Adj Close   Volume  \n",
       "Datetime                                  \n",
       "2023-06-13 09:30:00  271.663605  4660664  \n",
       "2023-06-13 10:30:00  273.470001  2076969  \n",
       "2023-06-13 11:30:00  271.500000  1823913  \n",
       "2023-06-13 12:30:00  271.702789  1329313  \n",
       "2023-06-13 13:30:00  270.019989  1844689  "
      ]
     },
     "execution_count": 73,
     "metadata": {},
     "output_type": "execute_result"
    }
   ],
   "source": [
    "data_train.tail()"
   ]
  },
  {
   "cell_type": "code",
   "execution_count": 74,
   "metadata": {},
   "outputs": [
    {
     "data": {
      "text/html": [
       "<div>\n",
       "<style scoped>\n",
       "    .dataframe tbody tr th:only-of-type {\n",
       "        vertical-align: middle;\n",
       "    }\n",
       "\n",
       "    .dataframe tbody tr th {\n",
       "        vertical-align: top;\n",
       "    }\n",
       "\n",
       "    .dataframe thead th {\n",
       "        text-align: right;\n",
       "    }\n",
       "</style>\n",
       "<table border=\"1\" class=\"dataframe\">\n",
       "  <thead>\n",
       "    <tr style=\"text-align: right;\">\n",
       "      <th></th>\n",
       "      <th>Open</th>\n",
       "      <th>High</th>\n",
       "      <th>Low</th>\n",
       "      <th>Close</th>\n",
       "      <th>Adj Close</th>\n",
       "      <th>Volume</th>\n",
       "    </tr>\n",
       "    <tr>\n",
       "      <th>Datetime</th>\n",
       "      <th></th>\n",
       "      <th></th>\n",
       "      <th></th>\n",
       "      <th></th>\n",
       "      <th></th>\n",
       "      <th></th>\n",
       "    </tr>\n",
       "  </thead>\n",
       "  <tbody>\n",
       "    <tr>\n",
       "      <th>2023-06-13 14:30:00</th>\n",
       "      <td>270.040009</td>\n",
       "      <td>271.480011</td>\n",
       "      <td>269.092285</td>\n",
       "      <td>270.829987</td>\n",
       "      <td>270.829987</td>\n",
       "      <td>1495666</td>\n",
       "    </tr>\n",
       "    <tr>\n",
       "      <th>2023-06-13 15:30:00</th>\n",
       "      <td>270.839996</td>\n",
       "      <td>271.450012</td>\n",
       "      <td>270.690002</td>\n",
       "      <td>271.320007</td>\n",
       "      <td>271.320007</td>\n",
       "      <td>1094207</td>\n",
       "    </tr>\n",
       "    <tr>\n",
       "      <th>2023-06-14 09:30:00</th>\n",
       "      <td>271.890015</td>\n",
       "      <td>274.989990</td>\n",
       "      <td>270.649994</td>\n",
       "      <td>273.700012</td>\n",
       "      <td>273.700012</td>\n",
       "      <td>3895013</td>\n",
       "    </tr>\n",
       "    <tr>\n",
       "      <th>2023-06-14 10:30:00</th>\n",
       "      <td>273.709991</td>\n",
       "      <td>274.799988</td>\n",
       "      <td>272.709991</td>\n",
       "      <td>273.209991</td>\n",
       "      <td>273.209991</td>\n",
       "      <td>1893207</td>\n",
       "    </tr>\n",
       "    <tr>\n",
       "      <th>2023-06-14 11:30:00</th>\n",
       "      <td>273.279999</td>\n",
       "      <td>273.540009</td>\n",
       "      <td>271.399994</td>\n",
       "      <td>272.410004</td>\n",
       "      <td>272.410004</td>\n",
       "      <td>1328985</td>\n",
       "    </tr>\n",
       "  </tbody>\n",
       "</table>\n",
       "</div>"
      ],
      "text/plain": [
       "                           Open        High         Low       Close  \\\n",
       "Datetime                                                              \n",
       "2023-06-13 14:30:00  270.040009  271.480011  269.092285  270.829987   \n",
       "2023-06-13 15:30:00  270.839996  271.450012  270.690002  271.320007   \n",
       "2023-06-14 09:30:00  271.890015  274.989990  270.649994  273.700012   \n",
       "2023-06-14 10:30:00  273.709991  274.799988  272.709991  273.209991   \n",
       "2023-06-14 11:30:00  273.279999  273.540009  271.399994  272.410004   \n",
       "\n",
       "                      Adj Close   Volume  \n",
       "Datetime                                  \n",
       "2023-06-13 14:30:00  270.829987  1495666  \n",
       "2023-06-13 15:30:00  271.320007  1094207  \n",
       "2023-06-14 09:30:00  273.700012  3895013  \n",
       "2023-06-14 10:30:00  273.209991  1893207  \n",
       "2023-06-14 11:30:00  272.410004  1328985  "
      ]
     },
     "execution_count": 74,
     "metadata": {},
     "output_type": "execute_result"
    }
   ],
   "source": [
    "data_test.head()"
   ]
  },
  {
   "cell_type": "code",
   "execution_count": 83,
   "metadata": {},
   "outputs": [
    {
     "ename": "NameError",
     "evalue": "name 'prediciton_days' is not defined",
     "output_type": "error",
     "traceback": [
      "\u001b[0;31m---------------------------------------------------------------------------\u001b[0m",
      "\u001b[0;31mNameError\u001b[0m                                 Traceback (most recent call last)",
      "Cell \u001b[0;32mIn[83], line 10\u001b[0m\n\u001b[1;32m      6\u001b[0m model_inputs \u001b[39m=\u001b[39m scaler\u001b[39m.\u001b[39mtransform(model_inputs)  \n\u001b[1;32m      8\u001b[0m xts \u001b[39m=\u001b[39m []\n\u001b[0;32m---> 10\u001b[0m \u001b[39mfor\u001b[39;00m x \u001b[39min\u001b[39;00m \u001b[39mrange\u001b[39m(prediciton_days, \u001b[39mlen\u001b[39m(model_inputs)):\n\u001b[1;32m     11\u001b[0m     xts\u001b[39m.\u001b[39mappend(model_inputs[x\u001b[39m-\u001b[39mprediction_days:x, \u001b[39m0\u001b[39m])\n\u001b[1;32m     13\u001b[0m xts \u001b[39m=\u001b[39m np\u001b[39m.\u001b[39marray(xts) \n",
      "\u001b[0;31mNameError\u001b[0m: name 'prediciton_days' is not defined"
     ]
    }
   ],
   "source": [
    "model_inputs = pd.concat([\n",
    "    data_train.tail(prediction_days),\n",
    "    data_test\n",
    "])\n",
    "model_inputs = model_inputs.Close.values.reshape(-1, 1)\n",
    "model_inputs = scaler.transform(model_inputs)  \n",
    "\n",
    "xts = []\n",
    "\n",
    "for x in range(prediciton_days, len(model_inputs)):\n",
    "    xts.append(model_inputs[x-prediction_days:x, 0])\n",
    "\n",
    "xts = np.array(xts) \n",
    "xts = np.reshape(xts, (xts.shape[0], xts.shape[1], 1))\n",
    "\n",
    "preds = model.predict(xts)\n",
    "preds = scaler.inverse_transform(preds)"
   ]
  },
  {
   "cell_type": "code",
   "execution_count": 81,
   "metadata": {},
   "outputs": [
    {
     "ename": "ValueError",
     "evalue": "Expected 2D array, got 1D array instead:\narray=[268.88500977 270.97000122 272.27139282 273.23999023 272.42999268\n 272.60998535 272.69000244 273.01998901 273.14190674 274.19000244\n 272.92001343 272.57998657 272.63000488 273.67999268 275.1499939\n 273.92001343 272.63000488 271.73001099 271.77999878 271.39001465\n 275.77999878 275.01998901 274.93099976 274.04998779 272.43499756\n 271.77999878 271.07000732 271.14001465 269.89498901 267.67999268\n 267.01000977 266.14001465 265.15499878 263.63000488 262.72000122\n 266.78158569 267.56359863 265.84500122 265.08999634 264.94500732\n 264.57998657 267.54998779 265.25       264.33999634 265.63000488\n 264.94500732 264.41000366 264.95001221 268.49499512 268.13009644\n 268.99099731 268.82998657 269.20739746 270.95999146 271.07998657\n 271.66360474 273.47000122 271.5        271.70278931 270.01998901\n 270.82998657 271.32000732 273.70001221 273.20999146 272.41000366\n 271.57998657 269.82000732 271.73999023 273.38000488 276.04998779\n 276.92498779 278.92001343 279.8999939  282.07489014 283.16000366\n 281.84500122 283.69000244 284.05499268 286.47000122 284.70498657\n 284.875      283.02999878 281.3500061  276.70001221 280.13061523\n 282.66000366 282.48010254 283.9750061  284.0249939  284.32998657\n 282.88000488 279.54000854 279.01000977 279.30999756 281.82501221\n 281.9750061  281.63000488 282.39001465 280.10998535 279.95999146\n 278.79000854 281.33999634 282.6499939  284.88000488 281.36999512\n 282.71499634 286.13000488 288.3999939  286.75       285.66000366\n 288.67999268 288.01998901 283.98999023 278.79000854 279.14498901\n 279.38000488 279.63000488 278.45001221 283.52270508 285.24499512\n 286.57998657 286.95788574 288.81500244 287.26000977 287.02999878\n 287.73999023 286.4598999  285.88000488 285.06219482 285.61990356\n 285.48498535 285.32000732 284.30499268 283.79620361 283.73999023\n 282.8999939  281.8999939  281.44500732 281.58999634 287.75\n 287.42001343 287.82998657 287.30999756 288.27600098 287.11999512\n 286.86999512 286.80999756 285.80718994 286.25       297.23498535\n 295.38000488 294.29251099 295.33499146 295.10549927 295.52999878\n 294.36999512 296.15499878 293.48989868 294.54998779 291.94000244\n 293.4750061  293.42001343 291.98001099 290.         291.92001343\n 291.90499878 294.07998657 294.64001465 292.14001465 290.54000854\n 293.36999512 291.730896   288.60009766 291.62850952 292.57998657\n 291.83499146 294.17001343 294.47988892 297.22970581 297.57998657\n 297.86999512 296.35998535 297.19000244 298.26000977 306.99499512\n 307.20568848 306.73999023 306.63000488 307.19000244 308.29000854\n 309.35998535 310.77999878 312.00320435 314.39001465 314.70001221\n 314.17999268 314.01000977 313.3999939  312.60998535 313.17999268\n 312.33999634 312.66000366 310.82818604 308.47988892 308.92001343\n 305.93499756 306.1499939  308.08010864 308.94500732 310.54000854\n 310.66000366 310.60998535 309.82998657 310.02999878 310.79998779\n 312.79998779 313.1000061  311.89001465 312.01998901 312.97000122\n 317.49499512 315.03359985 313.95001221 313.17001343 315.60998535\n 315.95999146 309.89001465 308.         306.70999146 306.96990967\n 304.99938965 303.18499756 302.51998901 297.68130493 298.69989014\n 292.5        296.88000488 294.70999146 293.88000488 294.26998901\n 294.63000488 290.76501465 291.03158569 292.08999634 292.1000061\n 290.49990845 291.60998535 292.47000122 292.88500977 294.34851074\n 295.76998901 295.04998779 294.73498535 294.45001221 297.61999512\n 295.05999756 295.74301147 297.27990723 298.27999878 298.66299438\n 298.76010132 318.93429565 320.04998779 317.91000366 313.8500061\n 313.66000366 313.13000488 311.70001221 321.5        324.51998901\n 324.84039307 322.50640869 324.18569946 324.11999512 325.3999939\n 322.54000854 322.56500244 321.17999268 319.64001465 319.67059326\n 319.09500122 318.60998535 318.15991211 321.84991455 322.29000854\n 322.75869751 322.45001221 323.04998779 322.67999268 316.80999756\n 312.98999023 311.75338745 313.73999023 315.07998657 312.77999878\n 314.32998657 311.92999268 314.82998657 314.1499939  314.70001221\n 314.20999146 312.77999878 313.19000244 313.6499939  314.75\n 315.77999878 314.10998535 311.29998779 311.68011475 310.73001099\n 313.30999756 311.94000244 314.5        315.45001221 313.92001343\n 315.5        316.55999756 313.60998535 312.13000488 311.48001099\n 312.82540894 313.08529663 312.23001099 312.66000366 308.5\n 303.73001099 306.35009766 308.01998901 308.68649292 306.75500488\n 305.17001343 310.79000854 308.98550415 307.3999939  305.85998535\n 306.07998657 305.69000244 305.79998779 304.07989502 301.06140137\n 302.79998779 302.44000244 302.27999878 302.79998779 301.6499939\n 300.95999146 303.19500732 303.23001099 304.35998535 303.54000854\n 305.02999878 306.19000244 302.27999878 303.16000366 303.77999878\n 303.6499939  302.14001465 300.14001465 301.92001343 299.74499512\n 298.85998535 295.95001221 297.39001465 298.16500854 295.99499512\n 294.27999878 291.54000854 292.20001221 293.56259155 292.92001343\n 289.57501221 287.26998901 285.07998657 277.11999512 278.\n 279.36499023 279.3611145  280.57998657 283.45001221 283.27999878\n 285.3500061  285.80499268 288.26998901 289.08499146 289.66000366\n 289.75       289.85998535 290.10128784 289.05969238 288.50009155\n 289.07998657 288.63000488 288.01998901 287.58999634 293.07000732\n 295.42001343 295.14001465 296.11999512 295.26000977 295.86999512\n 294.25       292.51998901 290.51000977 290.14981079 290.26998901\n 289.69000244 287.83999634 286.70001221].\nReshape your data either using array.reshape(-1, 1) if your data has a single feature or array.reshape(1, -1) if it contains a single sample.",
     "output_type": "error",
     "traceback": [
      "\u001b[0;31m---------------------------------------------------------------------------\u001b[0m",
      "\u001b[0;31mValueError\u001b[0m                                Traceback (most recent call last)",
      "Cell \u001b[0;32mIn[81], line 1\u001b[0m\n\u001b[0;32m----> 1\u001b[0m scaler\u001b[39m.\u001b[39;49mtransform(model_inputs)  \n",
      "File \u001b[0;32m~/.local/lib/python3.10/site-packages/sklearn/utils/_set_output.py:140\u001b[0m, in \u001b[0;36m_wrap_method_output.<locals>.wrapped\u001b[0;34m(self, X, *args, **kwargs)\u001b[0m\n\u001b[1;32m    138\u001b[0m \u001b[39m@wraps\u001b[39m(f)\n\u001b[1;32m    139\u001b[0m \u001b[39mdef\u001b[39;00m \u001b[39mwrapped\u001b[39m(\u001b[39mself\u001b[39m, X, \u001b[39m*\u001b[39margs, \u001b[39m*\u001b[39m\u001b[39m*\u001b[39mkwargs):\n\u001b[0;32m--> 140\u001b[0m     data_to_wrap \u001b[39m=\u001b[39m f(\u001b[39mself\u001b[39;49m, X, \u001b[39m*\u001b[39;49margs, \u001b[39m*\u001b[39;49m\u001b[39m*\u001b[39;49mkwargs)\n\u001b[1;32m    141\u001b[0m     \u001b[39mif\u001b[39;00m \u001b[39misinstance\u001b[39m(data_to_wrap, \u001b[39mtuple\u001b[39m):\n\u001b[1;32m    142\u001b[0m         \u001b[39m# only wrap the first output for cross decomposition\u001b[39;00m\n\u001b[1;32m    143\u001b[0m         \u001b[39mreturn\u001b[39;00m (\n\u001b[1;32m    144\u001b[0m             _wrap_data_with_container(method, data_to_wrap[\u001b[39m0\u001b[39m], X, \u001b[39mself\u001b[39m),\n\u001b[1;32m    145\u001b[0m             \u001b[39m*\u001b[39mdata_to_wrap[\u001b[39m1\u001b[39m:],\n\u001b[1;32m    146\u001b[0m         )\n",
      "File \u001b[0;32m~/.local/lib/python3.10/site-packages/sklearn/preprocessing/_data.py:508\u001b[0m, in \u001b[0;36mMinMaxScaler.transform\u001b[0;34m(self, X)\u001b[0m\n\u001b[1;32m    494\u001b[0m \u001b[39m\u001b[39m\u001b[39m\"\"\"Scale features of X according to feature_range.\u001b[39;00m\n\u001b[1;32m    495\u001b[0m \n\u001b[1;32m    496\u001b[0m \u001b[39mParameters\u001b[39;00m\n\u001b[0;32m   (...)\u001b[0m\n\u001b[1;32m    504\u001b[0m \u001b[39m    Transformed data.\u001b[39;00m\n\u001b[1;32m    505\u001b[0m \u001b[39m\"\"\"\u001b[39;00m\n\u001b[1;32m    506\u001b[0m check_is_fitted(\u001b[39mself\u001b[39m)\n\u001b[0;32m--> 508\u001b[0m X \u001b[39m=\u001b[39m \u001b[39mself\u001b[39;49m\u001b[39m.\u001b[39;49m_validate_data(\n\u001b[1;32m    509\u001b[0m     X,\n\u001b[1;32m    510\u001b[0m     copy\u001b[39m=\u001b[39;49m\u001b[39mself\u001b[39;49m\u001b[39m.\u001b[39;49mcopy,\n\u001b[1;32m    511\u001b[0m     dtype\u001b[39m=\u001b[39;49mFLOAT_DTYPES,\n\u001b[1;32m    512\u001b[0m     force_all_finite\u001b[39m=\u001b[39;49m\u001b[39m\"\u001b[39;49m\u001b[39mallow-nan\u001b[39;49m\u001b[39m\"\u001b[39;49m,\n\u001b[1;32m    513\u001b[0m     reset\u001b[39m=\u001b[39;49m\u001b[39mFalse\u001b[39;49;00m,\n\u001b[1;32m    514\u001b[0m )\n\u001b[1;32m    516\u001b[0m X \u001b[39m*\u001b[39m\u001b[39m=\u001b[39m \u001b[39mself\u001b[39m\u001b[39m.\u001b[39mscale_\n\u001b[1;32m    517\u001b[0m X \u001b[39m+\u001b[39m\u001b[39m=\u001b[39m \u001b[39mself\u001b[39m\u001b[39m.\u001b[39mmin_\n",
      "File \u001b[0;32m~/.local/lib/python3.10/site-packages/sklearn/base.py:565\u001b[0m, in \u001b[0;36mBaseEstimator._validate_data\u001b[0;34m(self, X, y, reset, validate_separately, **check_params)\u001b[0m\n\u001b[1;32m    563\u001b[0m     \u001b[39mraise\u001b[39;00m \u001b[39mValueError\u001b[39;00m(\u001b[39m\"\u001b[39m\u001b[39mValidation should be done on X, y or both.\u001b[39m\u001b[39m\"\u001b[39m)\n\u001b[1;32m    564\u001b[0m \u001b[39melif\u001b[39;00m \u001b[39mnot\u001b[39;00m no_val_X \u001b[39mand\u001b[39;00m no_val_y:\n\u001b[0;32m--> 565\u001b[0m     X \u001b[39m=\u001b[39m check_array(X, input_name\u001b[39m=\u001b[39;49m\u001b[39m\"\u001b[39;49m\u001b[39mX\u001b[39;49m\u001b[39m\"\u001b[39;49m, \u001b[39m*\u001b[39;49m\u001b[39m*\u001b[39;49mcheck_params)\n\u001b[1;32m    566\u001b[0m     out \u001b[39m=\u001b[39m X\n\u001b[1;32m    567\u001b[0m \u001b[39melif\u001b[39;00m no_val_X \u001b[39mand\u001b[39;00m \u001b[39mnot\u001b[39;00m no_val_y:\n",
      "File \u001b[0;32m~/.local/lib/python3.10/site-packages/sklearn/utils/validation.py:902\u001b[0m, in \u001b[0;36mcheck_array\u001b[0;34m(array, accept_sparse, accept_large_sparse, dtype, order, copy, force_all_finite, ensure_2d, allow_nd, ensure_min_samples, ensure_min_features, estimator, input_name)\u001b[0m\n\u001b[1;32m    900\u001b[0m     \u001b[39m# If input is 1D raise error\u001b[39;00m\n\u001b[1;32m    901\u001b[0m     \u001b[39mif\u001b[39;00m array\u001b[39m.\u001b[39mndim \u001b[39m==\u001b[39m \u001b[39m1\u001b[39m:\n\u001b[0;32m--> 902\u001b[0m         \u001b[39mraise\u001b[39;00m \u001b[39mValueError\u001b[39;00m(\n\u001b[1;32m    903\u001b[0m             \u001b[39m\"\u001b[39m\u001b[39mExpected 2D array, got 1D array instead:\u001b[39m\u001b[39m\\n\u001b[39;00m\u001b[39marray=\u001b[39m\u001b[39m{}\u001b[39;00m\u001b[39m.\u001b[39m\u001b[39m\\n\u001b[39;00m\u001b[39m\"\u001b[39m\n\u001b[1;32m    904\u001b[0m             \u001b[39m\"\u001b[39m\u001b[39mReshape your data either using array.reshape(-1, 1) if \u001b[39m\u001b[39m\"\u001b[39m\n\u001b[1;32m    905\u001b[0m             \u001b[39m\"\u001b[39m\u001b[39myour data has a single feature or array.reshape(1, -1) \u001b[39m\u001b[39m\"\u001b[39m\n\u001b[1;32m    906\u001b[0m             \u001b[39m\"\u001b[39m\u001b[39mif it contains a single sample.\u001b[39m\u001b[39m\"\u001b[39m\u001b[39m.\u001b[39mformat(array)\n\u001b[1;32m    907\u001b[0m         )\n\u001b[1;32m    909\u001b[0m \u001b[39mif\u001b[39;00m dtype_numeric \u001b[39mand\u001b[39;00m array\u001b[39m.\u001b[39mdtype\u001b[39m.\u001b[39mkind \u001b[39min\u001b[39;00m \u001b[39m\"\u001b[39m\u001b[39mUSV\u001b[39m\u001b[39m\"\u001b[39m:\n\u001b[1;32m    910\u001b[0m     \u001b[39mraise\u001b[39;00m \u001b[39mValueError\u001b[39;00m(\n\u001b[1;32m    911\u001b[0m         \u001b[39m\"\u001b[39m\u001b[39mdtype=\u001b[39m\u001b[39m'\u001b[39m\u001b[39mnumeric\u001b[39m\u001b[39m'\u001b[39m\u001b[39m is not compatible with arrays of bytes/strings.\u001b[39m\u001b[39m\"\u001b[39m\n\u001b[1;32m    912\u001b[0m         \u001b[39m\"\u001b[39m\u001b[39mConvert your data to numeric values explicitly instead.\u001b[39m\u001b[39m\"\u001b[39m\n\u001b[1;32m    913\u001b[0m     )\n",
      "\u001b[0;31mValueError\u001b[0m: Expected 2D array, got 1D array instead:\narray=[268.88500977 270.97000122 272.27139282 273.23999023 272.42999268\n 272.60998535 272.69000244 273.01998901 273.14190674 274.19000244\n 272.92001343 272.57998657 272.63000488 273.67999268 275.1499939\n 273.92001343 272.63000488 271.73001099 271.77999878 271.39001465\n 275.77999878 275.01998901 274.93099976 274.04998779 272.43499756\n 271.77999878 271.07000732 271.14001465 269.89498901 267.67999268\n 267.01000977 266.14001465 265.15499878 263.63000488 262.72000122\n 266.78158569 267.56359863 265.84500122 265.08999634 264.94500732\n 264.57998657 267.54998779 265.25       264.33999634 265.63000488\n 264.94500732 264.41000366 264.95001221 268.49499512 268.13009644\n 268.99099731 268.82998657 269.20739746 270.95999146 271.07998657\n 271.66360474 273.47000122 271.5        271.70278931 270.01998901\n 270.82998657 271.32000732 273.70001221 273.20999146 272.41000366\n 271.57998657 269.82000732 271.73999023 273.38000488 276.04998779\n 276.92498779 278.92001343 279.8999939  282.07489014 283.16000366\n 281.84500122 283.69000244 284.05499268 286.47000122 284.70498657\n 284.875      283.02999878 281.3500061  276.70001221 280.13061523\n 282.66000366 282.48010254 283.9750061  284.0249939  284.32998657\n 282.88000488 279.54000854 279.01000977 279.30999756 281.82501221\n 281.9750061  281.63000488 282.39001465 280.10998535 279.95999146\n 278.79000854 281.33999634 282.6499939  284.88000488 281.36999512\n 282.71499634 286.13000488 288.3999939  286.75       285.66000366\n 288.67999268 288.01998901 283.98999023 278.79000854 279.14498901\n 279.38000488 279.63000488 278.45001221 283.52270508 285.24499512\n 286.57998657 286.95788574 288.81500244 287.26000977 287.02999878\n 287.73999023 286.4598999  285.88000488 285.06219482 285.61990356\n 285.48498535 285.32000732 284.30499268 283.79620361 283.73999023\n 282.8999939  281.8999939  281.44500732 281.58999634 287.75\n 287.42001343 287.82998657 287.30999756 288.27600098 287.11999512\n 286.86999512 286.80999756 285.80718994 286.25       297.23498535\n 295.38000488 294.29251099 295.33499146 295.10549927 295.52999878\n 294.36999512 296.15499878 293.48989868 294.54998779 291.94000244\n 293.4750061  293.42001343 291.98001099 290.         291.92001343\n 291.90499878 294.07998657 294.64001465 292.14001465 290.54000854\n 293.36999512 291.730896   288.60009766 291.62850952 292.57998657\n 291.83499146 294.17001343 294.47988892 297.22970581 297.57998657\n 297.86999512 296.35998535 297.19000244 298.26000977 306.99499512\n 307.20568848 306.73999023 306.63000488 307.19000244 308.29000854\n 309.35998535 310.77999878 312.00320435 314.39001465 314.70001221\n 314.17999268 314.01000977 313.3999939  312.60998535 313.17999268\n 312.33999634 312.66000366 310.82818604 308.47988892 308.92001343\n 305.93499756 306.1499939  308.08010864 308.94500732 310.54000854\n 310.66000366 310.60998535 309.82998657 310.02999878 310.79998779\n 312.79998779 313.1000061  311.89001465 312.01998901 312.97000122\n 317.49499512 315.03359985 313.95001221 313.17001343 315.60998535\n 315.95999146 309.89001465 308.         306.70999146 306.96990967\n 304.99938965 303.18499756 302.51998901 297.68130493 298.69989014\n 292.5        296.88000488 294.70999146 293.88000488 294.26998901\n 294.63000488 290.76501465 291.03158569 292.08999634 292.1000061\n 290.49990845 291.60998535 292.47000122 292.88500977 294.34851074\n 295.76998901 295.04998779 294.73498535 294.45001221 297.61999512\n 295.05999756 295.74301147 297.27990723 298.27999878 298.66299438\n 298.76010132 318.93429565 320.04998779 317.91000366 313.8500061\n 313.66000366 313.13000488 311.70001221 321.5        324.51998901\n 324.84039307 322.50640869 324.18569946 324.11999512 325.3999939\n 322.54000854 322.56500244 321.17999268 319.64001465 319.67059326\n 319.09500122 318.60998535 318.15991211 321.84991455 322.29000854\n 322.75869751 322.45001221 323.04998779 322.67999268 316.80999756\n 312.98999023 311.75338745 313.73999023 315.07998657 312.77999878\n 314.32998657 311.92999268 314.82998657 314.1499939  314.70001221\n 314.20999146 312.77999878 313.19000244 313.6499939  314.75\n 315.77999878 314.10998535 311.29998779 311.68011475 310.73001099\n 313.30999756 311.94000244 314.5        315.45001221 313.92001343\n 315.5        316.55999756 313.60998535 312.13000488 311.48001099\n 312.82540894 313.08529663 312.23001099 312.66000366 308.5\n 303.73001099 306.35009766 308.01998901 308.68649292 306.75500488\n 305.17001343 310.79000854 308.98550415 307.3999939  305.85998535\n 306.07998657 305.69000244 305.79998779 304.07989502 301.06140137\n 302.79998779 302.44000244 302.27999878 302.79998779 301.6499939\n 300.95999146 303.19500732 303.23001099 304.35998535 303.54000854\n 305.02999878 306.19000244 302.27999878 303.16000366 303.77999878\n 303.6499939  302.14001465 300.14001465 301.92001343 299.74499512\n 298.85998535 295.95001221 297.39001465 298.16500854 295.99499512\n 294.27999878 291.54000854 292.20001221 293.56259155 292.92001343\n 289.57501221 287.26998901 285.07998657 277.11999512 278.\n 279.36499023 279.3611145  280.57998657 283.45001221 283.27999878\n 285.3500061  285.80499268 288.26998901 289.08499146 289.66000366\n 289.75       289.85998535 290.10128784 289.05969238 288.50009155\n 289.07998657 288.63000488 288.01998901 287.58999634 293.07000732\n 295.42001343 295.14001465 296.11999512 295.26000977 295.86999512\n 294.25       292.51998901 290.51000977 290.14981079 290.26998901\n 289.69000244 287.83999634 286.70001221].\nReshape your data either using array.reshape(-1, 1) if your data has a single feature or array.reshape(1, -1) if it contains a single sample."
     ]
    }
   ],
   "source": [
    "scaler.transform(model_inputs)  "
   ]
  },
  {
   "cell_type": "code",
   "execution_count": null,
   "metadata": {},
   "outputs": [],
   "source": []
  },
  {
   "cell_type": "code",
   "execution_count": null,
   "metadata": {},
   "outputs": [],
   "source": []
  }
 ],
 "metadata": {
  "kernelspec": {
   "display_name": "base",
   "language": "python",
   "name": "python3"
  },
  "language_info": {
   "codemirror_mode": {
    "name": "ipython",
    "version": 3
   },
   "file_extension": ".py",
   "mimetype": "text/x-python",
   "name": "python",
   "nbconvert_exporter": "python",
   "pygments_lexer": "ipython3",
   "version": "3.10.9"
  },
  "orig_nbformat": 4
 },
 "nbformat": 4,
 "nbformat_minor": 2
}
